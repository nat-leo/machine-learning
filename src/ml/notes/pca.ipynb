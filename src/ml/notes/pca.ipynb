{
 "cells": [
  {
   "cell_type": "markdown",
   "id": "c0c733e6",
   "metadata": {},
   "source": [
    "# An Introduction to Principle Component Analysis (PCA)\n",
    "\n",
    "![Nirenberg’s handwritten genetic code chart, 1965.](nirenberg-handwritten-1965.png)\n",
    "*First Summary of Genetic Code by Marshall W. Nirenberg. 18 January 1965. Link: https://profiles.nlm.nih.gov/spotlight/jj/catalog/nlm:nlmuid-101584910X475-img*\n",
    "\n",
    "Although PCA was first described in 1901 by Karl Pearson, this 1965 table serves as an illustrative example of the types of data that brought forth PCA.\n",
    "\n",
    "## Before PCA\n",
    "\n",
    "Biology and Social Sciences dominated the turn of the 20th Century. Researchers were collecting a great deal of measurements like height, weight, limb lengths, etc. In an attempt to understand and link variables.\n",
    "\n",
    "Handling and identifying correlations in these different measurements involced brute force and intuition. There were just too many measurements for each subject. Working with these datasets - summarizing, visualizing, and drawing meaningful conclusions was cumbersome and difficult.\n",
    "\n",
    "## A Little Bit of This and a Little Bit of That\n",
    "\n",
    "Not only were biologists recording any measurement they could get, there was a deep interest in how all this data correlated with one another, and whether or not measured variables could be explained by a combination of variables.\n",
    "\n",
    "This systematic way of identifying which combinations of variables that best descibe what we see is PCA.\n",
    "\n",
    "## The Algorithm\n",
    "\n",
    "Suppose we have some data points:\n",
    "```\n",
    "Measurements of the Species Gizmus Widgetmus\n",
    "[height, width, length]\n",
    "[1, 2, 3]\n",
    "[2, 3, 5]\n",
    "[3, 5, 4]\n",
    "[4, 4, 6]\n",
    "```\n",
    "We want to know which variables are responsible for the most change in the data - which measurements are most responsible for change.\n",
    "\n",
    "Step 1. Center the Data / Normalization\n",
    "\n",
    "Step 2. Compute Covariance\n",
    "\n",
    "Step 3. Compute the Determinant\n",
    "\n",
    "Stpe 4. Build the Equation\n"
   ]
  },
  {
   "cell_type": "code",
   "execution_count": null,
   "id": "0b9b34cf",
   "metadata": {},
   "outputs": [
    {
     "data": {
      "text/html": [
       "<pre style=\"white-space:pre;overflow-x:auto;line-height:normal;font-family:Menlo,'DejaVu Sans Mono',consolas,'Courier New',monospace\"><span style=\"font-weight: bold\">[</span>\n",
       "    <span style=\"font-weight: bold\">[</span><span style=\"color: #008080; text-decoration-color: #008080; font-weight: bold\">-1.0</span>, <span style=\"color: #008080; text-decoration-color: #008080; font-weight: bold\">-1.3333333333333335</span>, <span style=\"color: #008080; text-decoration-color: #008080; font-weight: bold\">-1.0</span><span style=\"font-weight: bold\">]</span>,\n",
       "    <span style=\"font-weight: bold\">[</span><span style=\"color: #008080; text-decoration-color: #008080; font-weight: bold\">0.0</span>, <span style=\"color: #008080; text-decoration-color: #008080; font-weight: bold\">-0.3333333333333335</span>, <span style=\"color: #008080; text-decoration-color: #008080; font-weight: bold\">1.0</span><span style=\"font-weight: bold\">]</span>,\n",
       "    <span style=\"font-weight: bold\">[</span><span style=\"color: #008080; text-decoration-color: #008080; font-weight: bold\">1.0</span>, <span style=\"color: #008080; text-decoration-color: #008080; font-weight: bold\">1.6666666666666665</span>, <span style=\"color: #008080; text-decoration-color: #008080; font-weight: bold\">0.0</span><span style=\"font-weight: bold\">]</span>,\n",
       "    <span style=\"font-weight: bold\">[</span><span style=\"color: #008080; text-decoration-color: #008080; font-weight: bold\">2.0</span>, <span style=\"color: #008080; text-decoration-color: #008080; font-weight: bold\">0.6666666666666665</span>, <span style=\"color: #008080; text-decoration-color: #008080; font-weight: bold\">2.0</span><span style=\"font-weight: bold\">]</span>\n",
       "<span style=\"font-weight: bold\">]</span>\n",
       "</pre>\n"
      ],
      "text/plain": [
       "\u001b[1m[\u001b[0m\n",
       "    \u001b[1m[\u001b[0m\u001b[1;36m-1.0\u001b[0m, \u001b[1;36m-1.3333333333333335\u001b[0m, \u001b[1;36m-1.0\u001b[0m\u001b[1m]\u001b[0m,\n",
       "    \u001b[1m[\u001b[0m\u001b[1;36m0.0\u001b[0m, \u001b[1;36m-0.3333333333333335\u001b[0m, \u001b[1;36m1.0\u001b[0m\u001b[1m]\u001b[0m,\n",
       "    \u001b[1m[\u001b[0m\u001b[1;36m1.0\u001b[0m, \u001b[1;36m1.6666666666666665\u001b[0m, \u001b[1;36m0.0\u001b[0m\u001b[1m]\u001b[0m,\n",
       "    \u001b[1m[\u001b[0m\u001b[1;36m2.0\u001b[0m, \u001b[1;36m0.6666666666666665\u001b[0m, \u001b[1;36m2.0\u001b[0m\u001b[1m]\u001b[0m\n",
       "\u001b[1m]\u001b[0m\n"
      ]
     },
     "metadata": {},
     "output_type": "display_data"
    }
   ],
   "source": [
    "import numpy as np\n",
    "from rich.console import Console\n",
    "console = Console()\n",
    "\n",
    "\"\"\"\n",
    "Let's center some data\n",
    "\"\"\"\n",
    "data = [\n",
    "    [1,2,3],\n",
    "    [2,3,5],\n",
    "    [3,5,4],\n",
    "    [4,4,6]\n",
    "]\n",
    "\n",
    "avg_x = sum(data[0]) / len(data[0])\n",
    "avg_y = sum(data[1]) / len(data[1])\n",
    "avg_z = sum(data[2]) / len(data[2])\n",
    "avg = [avg_x, avg_y, avg_z]\n",
    "\n",
    "centered_data = [[None for _ in range(len(data[0]))] for _ in range(len(data))]\n",
    "for sample in range(len(data)):\n",
    "    for measurement in range(len(data[0])):\n",
    "        centered_data[sample][measurement] = data[sample][measurement] - avg[measurement]\n",
    "        \n",
    "console.print(centered_data)"
   ]
  },
  {
   "cell_type": "code",
   "execution_count": 16,
   "id": "017f8e8d",
   "metadata": {},
   "outputs": [
    {
     "data": {
      "text/html": [
       "<pre style=\"white-space:pre;overflow-x:auto;line-height:normal;font-family:Menlo,'DejaVu Sans Mono',consolas,'Courier New',monospace\"><span style=\"font-weight: bold\">[[</span><span style=\"color: #008080; text-decoration-color: #008080; font-weight: bold\">1.66666667</span> <span style=\"color: #008080; text-decoration-color: #008080; font-weight: bold\">1.33333333</span> <span style=\"color: #008080; text-decoration-color: #008080; font-weight: bold\">1.33333333</span><span style=\"font-weight: bold\">]</span>\n",
       " <span style=\"font-weight: bold\">[</span><span style=\"color: #008080; text-decoration-color: #008080; font-weight: bold\">1.33333333</span> <span style=\"color: #008080; text-decoration-color: #008080; font-weight: bold\">1.66666667</span> <span style=\"color: #008080; text-decoration-color: #008080; font-weight: bold\">0.66666667</span><span style=\"font-weight: bold\">]</span>\n",
       " <span style=\"font-weight: bold\">[</span><span style=\"color: #008080; text-decoration-color: #008080; font-weight: bold\">1.33333333</span> <span style=\"color: #008080; text-decoration-color: #008080; font-weight: bold\">0.66666667</span> <span style=\"color: #008080; text-decoration-color: #008080; font-weight: bold\">1.66666667</span><span style=\"font-weight: bold\">]]</span>\n",
       "</pre>\n"
      ],
      "text/plain": [
       "\u001b[1m[\u001b[0m\u001b[1m[\u001b[0m\u001b[1;36m1.66666667\u001b[0m \u001b[1;36m1.33333333\u001b[0m \u001b[1;36m1.33333333\u001b[0m\u001b[1m]\u001b[0m\n",
       " \u001b[1m[\u001b[0m\u001b[1;36m1.33333333\u001b[0m \u001b[1;36m1.66666667\u001b[0m \u001b[1;36m0.66666667\u001b[0m\u001b[1m]\u001b[0m\n",
       " \u001b[1m[\u001b[0m\u001b[1;36m1.33333333\u001b[0m \u001b[1;36m0.66666667\u001b[0m \u001b[1;36m1.66666667\u001b[0m\u001b[1m]\u001b[0m\u001b[1m]\u001b[0m\n"
      ]
     },
     "metadata": {},
     "output_type": "display_data"
    }
   ],
   "source": [
    "\"\"\"\n",
    "Compute the Covariance\n",
    "\n",
    "Cov(X,Y) = Σ ( Xi - Xmean ) * ( Yi - Ymean ) / ( n - 1 )\n",
    "\n",
    "\"\"\"\n",
    "covariance = np.cov(np.array(centered_data).T)\n",
    "console.print(covariance)"
   ]
  },
  {
   "cell_type": "code",
   "execution_count": 12,
   "id": "e34e749a",
   "metadata": {},
   "outputs": [
    {
     "data": {
      "text/html": [
       "<pre style=\"white-space:pre;overflow-x:auto;line-height:normal;font-family:Menlo,'DejaVu Sans Mono',consolas,'Courier New',monospace\">Eigenvalues: <span style=\"font-weight: bold\">[</span><span style=\"color: #008080; text-decoration-color: #008080; font-weight: bold\">0.08514578</span> <span style=\"color: #008080; text-decoration-color: #008080; font-weight: bold\">3.91485422</span> <span style=\"color: #008080; text-decoration-color: #008080; font-weight: bold\">1</span>.        <span style=\"font-weight: bold\">]</span>\n",
       "</pre>\n"
      ],
      "text/plain": [
       "Eigenvalues: \u001b[1m[\u001b[0m\u001b[1;36m0.08514578\u001b[0m \u001b[1;36m3.91485422\u001b[0m \u001b[1;36m1\u001b[0m.        \u001b[1m]\u001b[0m\n"
      ]
     },
     "metadata": {},
     "output_type": "display_data"
    },
    {
     "data": {
      "text/html": [
       "<pre style=\"white-space:pre;overflow-x:auto;line-height:normal;font-family:Menlo,'DejaVu Sans Mono',consolas,'Courier New',monospace\">Eigenvectors: <span style=\"font-weight: bold\">[[</span><span style=\"color: #008080; text-decoration-color: #008080; font-weight: bold\">-7.66184591e-01</span>  <span style=\"color: #008080; text-decoration-color: #008080; font-weight: bold\">6.42620551e-01</span>  <span style=\"color: #008080; text-decoration-color: #008080; font-weight: bold\">9.18701932e-17</span><span style=\"font-weight: bold\">]</span>\n",
       " <span style=\"font-weight: bold\">[</span> <span style=\"color: #008080; text-decoration-color: #008080; font-weight: bold\">4.54401349e-01</span>  <span style=\"color: #008080; text-decoration-color: #008080; font-weight: bold\">5.41774320e-01</span> <span style=\"color: #008080; text-decoration-color: #008080; font-weight: bold\">-7.07106781e-01</span><span style=\"font-weight: bold\">]</span>\n",
       " <span style=\"font-weight: bold\">[</span> <span style=\"color: #008080; text-decoration-color: #008080; font-weight: bold\">4.54401349e-01</span>  <span style=\"color: #008080; text-decoration-color: #008080; font-weight: bold\">5.41774320e-01</span>  <span style=\"color: #008080; text-decoration-color: #008080; font-weight: bold\">7.07106781e-01</span><span style=\"font-weight: bold\">]]</span>\n",
       "</pre>\n"
      ],
      "text/plain": [
       "Eigenvectors: \u001b[1m[\u001b[0m\u001b[1m[\u001b[0m\u001b[1;36m-7.66184591e-01\u001b[0m  \u001b[1;36m6.42620551e-01\u001b[0m  \u001b[1;36m9.18701932e-17\u001b[0m\u001b[1m]\u001b[0m\n",
       " \u001b[1m[\u001b[0m \u001b[1;36m4.54401349e-01\u001b[0m  \u001b[1;36m5.41774320e-01\u001b[0m \u001b[1;36m-7.07106781e-01\u001b[0m\u001b[1m]\u001b[0m\n",
       " \u001b[1m[\u001b[0m \u001b[1;36m4.54401349e-01\u001b[0m  \u001b[1;36m5.41774320e-01\u001b[0m  \u001b[1;36m7.07106781e-01\u001b[0m\u001b[1m]\u001b[0m\u001b[1m]\u001b[0m\n"
      ]
     },
     "metadata": {},
     "output_type": "display_data"
    }
   ],
   "source": [
    "\"\"\"\n",
    "Compute the determinant: det(C - λI) = 0\n",
    "\"\"\"\n",
    "eigenvalues, eigenvectors = np.linalg.eig(covariance)\n",
    "console.print(\"Eigenvalues:\", eigenvalues)\n",
    "console.print(\"Eigenvectors:\", eigenvectors)"
   ]
  }
 ],
 "metadata": {
  "kernelspec": {
   "display_name": "Python 3",
   "language": "python",
   "name": "python3"
  },
  "language_info": {
   "codemirror_mode": {
    "name": "ipython",
    "version": 3
   },
   "file_extension": ".py",
   "mimetype": "text/x-python",
   "name": "python",
   "nbconvert_exporter": "python",
   "pygments_lexer": "ipython3",
   "version": "3.10.17"
  }
 },
 "nbformat": 4,
 "nbformat_minor": 5
}
