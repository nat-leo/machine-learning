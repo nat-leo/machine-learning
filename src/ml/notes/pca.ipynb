{
 "cells": [
  {
   "cell_type": "markdown",
   "id": "c0c733e6",
   "metadata": {},
   "source": [
    "# An Introduction to Principle Component Analysis (PCA)\n",
    "\n",
    "![Nirenberg’s handwritten genetic code chart, 1965.](nirenberg-handwritten-1965.png)\n",
    "*First Summary of Genetic Code by Marshall W. Nirenberg. 18 January 1965. Link: https://profiles.nlm.nih.gov/spotlight/jj/catalog/nlm:nlmuid-101584910X475-img*\n",
    "\n",
    "Although PCA was first described in 1901 by Karl Pearson, this 1965 table serves as an illustrative example of the types of data that brought forth PCA.\n",
    "\n",
    "## Before PCA\n",
    "\n",
    "Biology and Social Sciences dominated the turn of the 20th Century. Researchers were collecting a great deal of measurements like height, weight, limb lengths, etc. In an attempt to understand and link variables.\n",
    "\n",
    "Handling and identifying correlations in these different measurements involced brute force and intuition. There were just too many measurements for each subject. Working with these datasets - summarizing, visualizing, and drawing meaningful conclusions was cumbersome and difficult.\n",
    "\n",
    "## A Little Bit of This and a Little Bit of That\n",
    "\n",
    "Not only were biologists recording any measurement they could get, there was a deep interest in how all this data correlated with one another, and whether or not measured variables could be explained by a combination of variables.\n",
    "\n",
    "This systematic way of identifying which combinations of variables that best descibe what we see is PCA.\n",
    "\n",
    "## The Algorithm\n",
    "\n",
    "Suppose we have some data points:\n",
    "```\n",
    "Measurements of the Species Gizmus Widgetmus\n",
    "\n",
    "Leg Length: [1, 2, 3]\n",
    "Hair Color (Scale 1-10 from black to white): [2, 3, 5]\n",
    "Hair Length: [3, 5, 4]\n",
    "Age: [4, 4, 6]\n",
    "```\n",
    "We want to know which variables are responsible for the most change in the data - which measurements are most responsible for change. Here are the steps:\n",
    "\n",
    "Step 1. Center the Data / Normalization\n",
    "\n",
    "Step 2. Compute Covariance\n",
    "\n",
    "Step 3. Compute the Determinant\n",
    "\n",
    "Step 4. Build the Equation\n"
   ]
  },
  {
   "cell_type": "code",
   "execution_count": 72,
   "id": "0b9b34cf",
   "metadata": {},
   "outputs": [
    {
     "data": {
      "text/html": [
       "<pre style=\"white-space:pre;overflow-x:auto;line-height:normal;font-family:Menlo,'DejaVu Sans Mono',consolas,'Courier New',monospace\"><span style=\"font-weight: bold\">[[</span><span style=\"color: #008080; text-decoration-color: #008080; font-weight: bold\">-1.5</span> <span style=\"color: #008080; text-decoration-color: #008080; font-weight: bold\">-1.5</span> <span style=\"color: #008080; text-decoration-color: #008080; font-weight: bold\">-1.5</span><span style=\"font-weight: bold\">]</span>\n",
       " <span style=\"font-weight: bold\">[</span><span style=\"color: #008080; text-decoration-color: #008080; font-weight: bold\">-0.5</span> <span style=\"color: #008080; text-decoration-color: #008080; font-weight: bold\">-0.5</span>  <span style=\"color: #008080; text-decoration-color: #008080; font-weight: bold\">0.5</span><span style=\"font-weight: bold\">]</span>\n",
       " <span style=\"font-weight: bold\">[</span> <span style=\"color: #008080; text-decoration-color: #008080; font-weight: bold\">0.5</span>  <span style=\"color: #008080; text-decoration-color: #008080; font-weight: bold\">1.5</span> <span style=\"color: #008080; text-decoration-color: #008080; font-weight: bold\">-0.5</span><span style=\"font-weight: bold\">]</span>\n",
       " <span style=\"font-weight: bold\">[</span> <span style=\"color: #008080; text-decoration-color: #008080; font-weight: bold\">1.5</span>  <span style=\"color: #008080; text-decoration-color: #008080; font-weight: bold\">0.5</span>  <span style=\"color: #008080; text-decoration-color: #008080; font-weight: bold\">1.5</span><span style=\"font-weight: bold\">]]</span>\n",
       "</pre>\n"
      ],
      "text/plain": [
       "\u001b[1m[\u001b[0m\u001b[1m[\u001b[0m\u001b[1;36m-1.5\u001b[0m \u001b[1;36m-1.5\u001b[0m \u001b[1;36m-1.5\u001b[0m\u001b[1m]\u001b[0m\n",
       " \u001b[1m[\u001b[0m\u001b[1;36m-0.5\u001b[0m \u001b[1;36m-0.5\u001b[0m  \u001b[1;36m0.5\u001b[0m\u001b[1m]\u001b[0m\n",
       " \u001b[1m[\u001b[0m \u001b[1;36m0.5\u001b[0m  \u001b[1;36m1.5\u001b[0m \u001b[1;36m-0.5\u001b[0m\u001b[1m]\u001b[0m\n",
       " \u001b[1m[\u001b[0m \u001b[1;36m1.5\u001b[0m  \u001b[1;36m0.5\u001b[0m  \u001b[1;36m1.5\u001b[0m\u001b[1m]\u001b[0m\u001b[1m]\u001b[0m\n"
      ]
     },
     "metadata": {},
     "output_type": "display_data"
    }
   ],
   "source": [
    "import numpy as np\n",
    "from rich.console import Console\n",
    "console = Console()\n",
    "\n",
    "\"\"\"\n",
    "Let's center some data\n",
    "\"\"\"\n",
    "data = np.array([\n",
    "    [1,2,3],\n",
    "    [2,3,5],\n",
    "    [3,5,4],\n",
    "    [4,4,6]\n",
    "])\n",
    "\n",
    "avg = np.mean(data, axis=0)\n",
    "centered_data = data - avg\n",
    "        \n",
    "console.print(centered_data)"
   ]
  },
  {
   "cell_type": "code",
   "execution_count": 73,
   "id": "017f8e8d",
   "metadata": {},
   "outputs": [
    {
     "data": {
      "text/html": [
       "<pre style=\"white-space:pre;overflow-x:auto;line-height:normal;font-family:Menlo,'DejaVu Sans Mono',consolas,'Courier New',monospace\"><span style=\"font-weight: bold\">[[</span> <span style=\"color: #008080; text-decoration-color: #008080; font-weight: bold\">0</span>.          <span style=\"color: #008080; text-decoration-color: #008080; font-weight: bold\">0</span>.          <span style=\"color: #008080; text-decoration-color: #008080; font-weight: bold\">0</span>.          <span style=\"color: #008080; text-decoration-color: #008080; font-weight: bold\">0</span>.        <span style=\"font-weight: bold\">]</span>\n",
       " <span style=\"font-weight: bold\">[</span> <span style=\"color: #008080; text-decoration-color: #008080; font-weight: bold\">0</span>.          <span style=\"color: #008080; text-decoration-color: #008080; font-weight: bold\">0.33333333</span> <span style=\"color: #008080; text-decoration-color: #008080; font-weight: bold\">-0.5</span>         <span style=\"color: #008080; text-decoration-color: #008080; font-weight: bold\">0.16666667</span><span style=\"font-weight: bold\">]</span>\n",
       " <span style=\"font-weight: bold\">[</span> <span style=\"color: #008080; text-decoration-color: #008080; font-weight: bold\">0</span>.         <span style=\"color: #008080; text-decoration-color: #008080; font-weight: bold\">-0.5</span>         <span style=\"color: #008080; text-decoration-color: #008080; font-weight: bold\">1</span>.         <span style=\"color: #008080; text-decoration-color: #008080; font-weight: bold\">-0.5</span>       <span style=\"font-weight: bold\">]</span>\n",
       " <span style=\"font-weight: bold\">[</span> <span style=\"color: #008080; text-decoration-color: #008080; font-weight: bold\">0</span>.          <span style=\"color: #008080; text-decoration-color: #008080; font-weight: bold\">0.16666667</span> <span style=\"color: #008080; text-decoration-color: #008080; font-weight: bold\">-0.5</span>         <span style=\"color: #008080; text-decoration-color: #008080; font-weight: bold\">0.33333333</span><span style=\"font-weight: bold\">]]</span>\n",
       "</pre>\n"
      ],
      "text/plain": [
       "\u001b[1m[\u001b[0m\u001b[1m[\u001b[0m \u001b[1;36m0\u001b[0m.          \u001b[1;36m0\u001b[0m.          \u001b[1;36m0\u001b[0m.          \u001b[1;36m0\u001b[0m.        \u001b[1m]\u001b[0m\n",
       " \u001b[1m[\u001b[0m \u001b[1;36m0\u001b[0m.          \u001b[1;36m0.33333333\u001b[0m \u001b[1;36m-0.5\u001b[0m         \u001b[1;36m0.16666667\u001b[0m\u001b[1m]\u001b[0m\n",
       " \u001b[1m[\u001b[0m \u001b[1;36m0\u001b[0m.         \u001b[1;36m-0.5\u001b[0m         \u001b[1;36m1\u001b[0m.         \u001b[1;36m-0.5\u001b[0m       \u001b[1m]\u001b[0m\n",
       " \u001b[1m[\u001b[0m \u001b[1;36m0\u001b[0m.          \u001b[1;36m0.16666667\u001b[0m \u001b[1;36m-0.5\u001b[0m         \u001b[1;36m0.33333333\u001b[0m\u001b[1m]\u001b[0m\u001b[1m]\u001b[0m\n"
      ]
     },
     "metadata": {},
     "output_type": "display_data"
    }
   ],
   "source": [
    "\"\"\"\n",
    "Compute the Covariance\n",
    "\n",
    "Cov(X,Y) = Σ ( Xi - Xmean ) * ( Yi - Ymean ) / ( n - 1 )\n",
    "\n",
    "\"\"\"\n",
    "covariance = np.cov(centered_data)\n",
    "console.print(covariance)"
   ]
  },
  {
   "cell_type": "code",
   "execution_count": 74,
   "id": "e34e749a",
   "metadata": {},
   "outputs": [
    {
     "data": {
      "text/html": [
       "<pre style=\"white-space:pre;overflow-x:auto;line-height:normal;font-family:Menlo,'DejaVu Sans Mono',consolas,'Courier New',monospace\">Eigenvalues: <span style=\"font-weight: bold\">[</span><span style=\"color: #008080; text-decoration-color: #008080; font-weight: bold\">1.50000000e+00</span> <span style=\"color: #008080; text-decoration-color: #008080; font-weight: bold\">1.66666667e-01</span> <span style=\"color: #008080; text-decoration-color: #008080; font-weight: bold\">3.00888040e-17</span> <span style=\"color: #008080; text-decoration-color: #008080; font-weight: bold\">0.00000000e+00</span><span style=\"font-weight: bold\">]</span>\n",
       "</pre>\n"
      ],
      "text/plain": [
       "Eigenvalues: \u001b[1m[\u001b[0m\u001b[1;36m1.50000000e+00\u001b[0m \u001b[1;36m1.66666667e-01\u001b[0m \u001b[1;36m3.00888040e-17\u001b[0m \u001b[1;36m0.00000000e+00\u001b[0m\u001b[1m]\u001b[0m\n"
      ]
     },
     "metadata": {},
     "output_type": "display_data"
    },
    {
     "data": {
      "text/html": [
       "<pre style=\"white-space:pre;overflow-x:auto;line-height:normal;font-family:Menlo,'DejaVu Sans Mono',consolas,'Courier New',monospace\">Eigenvectors: <span style=\"font-weight: bold\">[[</span> <span style=\"color: #008080; text-decoration-color: #008080; font-weight: bold\">0.00000000e+00</span>  <span style=\"color: #008080; text-decoration-color: #008080; font-weight: bold\">0.00000000e+00</span>  <span style=\"color: #008080; text-decoration-color: #008080; font-weight: bold\">0.00000000e+00</span>  <span style=\"color: #008080; text-decoration-color: #008080; font-weight: bold\">1.00000000e+00</span><span style=\"font-weight: bold\">]</span>\n",
       " <span style=\"font-weight: bold\">[</span><span style=\"color: #008080; text-decoration-color: #008080; font-weight: bold\">-4.08248290e-01</span>  <span style=\"color: #008080; text-decoration-color: #008080; font-weight: bold\">7.07106781e-01</span>  <span style=\"color: #008080; text-decoration-color: #008080; font-weight: bold\">5.77350269e-01</span>  <span style=\"color: #008080; text-decoration-color: #008080; font-weight: bold\">0.00000000e+00</span><span style=\"font-weight: bold\">]</span>\n",
       " <span style=\"font-weight: bold\">[</span> <span style=\"color: #008080; text-decoration-color: #008080; font-weight: bold\">8.16496581e-01</span>  <span style=\"color: #008080; text-decoration-color: #008080; font-weight: bold\">2.67247170e-16</span>  <span style=\"color: #008080; text-decoration-color: #008080; font-weight: bold\">5.77350269e-01</span>  <span style=\"color: #008080; text-decoration-color: #008080; font-weight: bold\">0.00000000e+00</span><span style=\"font-weight: bold\">]</span>\n",
       " <span style=\"font-weight: bold\">[</span><span style=\"color: #008080; text-decoration-color: #008080; font-weight: bold\">-4.08248290e-01</span> <span style=\"color: #008080; text-decoration-color: #008080; font-weight: bold\">-7.07106781e-01</span>  <span style=\"color: #008080; text-decoration-color: #008080; font-weight: bold\">5.77350269e-01</span>  <span style=\"color: #008080; text-decoration-color: #008080; font-weight: bold\">0.00000000e+00</span><span style=\"font-weight: bold\">]]</span>\n",
       "</pre>\n"
      ],
      "text/plain": [
       "Eigenvectors: \u001b[1m[\u001b[0m\u001b[1m[\u001b[0m \u001b[1;36m0.00000000e+00\u001b[0m  \u001b[1;36m0.00000000e+00\u001b[0m  \u001b[1;36m0.00000000e+00\u001b[0m  \u001b[1;36m1.00000000e+00\u001b[0m\u001b[1m]\u001b[0m\n",
       " \u001b[1m[\u001b[0m\u001b[1;36m-4.08248290e-01\u001b[0m  \u001b[1;36m7.07106781e-01\u001b[0m  \u001b[1;36m5.77350269e-01\u001b[0m  \u001b[1;36m0.00000000e+00\u001b[0m\u001b[1m]\u001b[0m\n",
       " \u001b[1m[\u001b[0m \u001b[1;36m8.16496581e-01\u001b[0m  \u001b[1;36m2.67247170e-16\u001b[0m  \u001b[1;36m5.77350269e-01\u001b[0m  \u001b[1;36m0.00000000e+00\u001b[0m\u001b[1m]\u001b[0m\n",
       " \u001b[1m[\u001b[0m\u001b[1;36m-4.08248290e-01\u001b[0m \u001b[1;36m-7.07106781e-01\u001b[0m  \u001b[1;36m5.77350269e-01\u001b[0m  \u001b[1;36m0.00000000e+00\u001b[0m\u001b[1m]\u001b[0m\u001b[1m]\u001b[0m\n"
      ]
     },
     "metadata": {},
     "output_type": "display_data"
    }
   ],
   "source": [
    "\"\"\"\n",
    "Compute the determinant: det(C - λI) = 0\n",
    "\"\"\"\n",
    "eigenvalues, eigenvectors = np.linalg.eig(covariance)\n",
    "console.print(\"Eigenvalues:\", eigenvalues)\n",
    "console.print(\"Eigenvectors:\", eigenvectors)"
   ]
  },
  {
   "cell_type": "code",
   "execution_count": 75,
   "id": "9f1363b4",
   "metadata": {},
   "outputs": [
    {
     "data": {
      "text/html": [
       "<pre style=\"white-space:pre;overflow-x:auto;line-height:normal;font-family:Menlo,'DejaVu Sans Mono',consolas,'Courier New',monospace\">Here's how much each principle component explains the variance in the data:\n",
       "Componenet <span style=\"color: #008080; text-decoration-color: #008080; font-weight: bold\">1</span>: <span style=\"color: #008080; text-decoration-color: #008080; font-weight: bold\">89</span> %\n",
       "Componenet <span style=\"color: #008080; text-decoration-color: #008080; font-weight: bold\">2</span>: <span style=\"color: #008080; text-decoration-color: #008080; font-weight: bold\">10</span> %\n",
       "Componenet <span style=\"color: #008080; text-decoration-color: #008080; font-weight: bold\">3</span>: <span style=\"color: #008080; text-decoration-color: #008080; font-weight: bold\">0</span> %\n",
       "Componenet <span style=\"color: #008080; text-decoration-color: #008080; font-weight: bold\">4</span>: <span style=\"color: #008080; text-decoration-color: #008080; font-weight: bold\">0</span> %\n",
       "\n",
       "</pre>\n"
      ],
      "text/plain": [
       "Here's how much each principle component explains the variance in the data:\n",
       "Componenet \u001b[1;36m1\u001b[0m: \u001b[1;36m89\u001b[0m %\n",
       "Componenet \u001b[1;36m2\u001b[0m: \u001b[1;36m10\u001b[0m %\n",
       "Componenet \u001b[1;36m3\u001b[0m: \u001b[1;36m0\u001b[0m %\n",
       "Componenet \u001b[1;36m4\u001b[0m: \u001b[1;36m0\u001b[0m %\n",
       "\n"
      ]
     },
     "metadata": {},
     "output_type": "display_data"
    },
    {
     "data": {
      "text/html": [
       "<pre style=\"white-space:pre;overflow-x:auto;line-height:normal;font-family:Menlo,'DejaVu Sans Mono',consolas,'Courier New',monospace\">But what do the principle components represent? The vectors point in the direction of most variance.\n",
       "Eigenvalues: <span style=\"font-weight: bold\">[</span><span style=\"color: #008080; text-decoration-color: #008080; font-weight: bold\">1.50</span>, <span style=\"color: #008080; text-decoration-color: #008080; font-weight: bold\">0.17</span>, <span style=\"color: #008080; text-decoration-color: #008080; font-weight: bold\">0.00</span>, <span style=\"color: #008080; text-decoration-color: #008080; font-weight: bold\">0.00</span><span style=\"font-weight: bold\">]</span>\n",
       "Vector <span style=\"color: #008080; text-decoration-color: #008080; font-weight: bold\">1</span>: <span style=\"font-weight: bold\">[</span><span style=\"color: #008080; text-decoration-color: #008080; font-weight: bold\">0</span>. <span style=\"color: #008080; text-decoration-color: #008080; font-weight: bold\">0</span>. <span style=\"color: #008080; text-decoration-color: #008080; font-weight: bold\">0</span>. <span style=\"color: #008080; text-decoration-color: #008080; font-weight: bold\">1</span>.<span style=\"font-weight: bold\">]</span>\n",
       "Vector <span style=\"color: #008080; text-decoration-color: #008080; font-weight: bold\">2</span>: <span style=\"font-weight: bold\">[</span><span style=\"color: #008080; text-decoration-color: #008080; font-weight: bold\">-0.40824829</span>  <span style=\"color: #008080; text-decoration-color: #008080; font-weight: bold\">0.70710678</span>  <span style=\"color: #008080; text-decoration-color: #008080; font-weight: bold\">0.57735027</span>  <span style=\"color: #008080; text-decoration-color: #008080; font-weight: bold\">0</span>.        <span style=\"font-weight: bold\">]</span>\n",
       "Vector <span style=\"color: #008080; text-decoration-color: #008080; font-weight: bold\">3</span>: <span style=\"font-weight: bold\">[</span><span style=\"color: #008080; text-decoration-color: #008080; font-weight: bold\">8.16496581e-01</span> <span style=\"color: #008080; text-decoration-color: #008080; font-weight: bold\">2.67247170e-16</span> <span style=\"color: #008080; text-decoration-color: #008080; font-weight: bold\">5.77350269e-01</span> <span style=\"color: #008080; text-decoration-color: #008080; font-weight: bold\">0.00000000e+00</span><span style=\"font-weight: bold\">]</span>\n",
       "Vector <span style=\"color: #008080; text-decoration-color: #008080; font-weight: bold\">4</span>: <span style=\"font-weight: bold\">[</span><span style=\"color: #008080; text-decoration-color: #008080; font-weight: bold\">-0.40824829</span> <span style=\"color: #008080; text-decoration-color: #008080; font-weight: bold\">-0.70710678</span>  <span style=\"color: #008080; text-decoration-color: #008080; font-weight: bold\">0.57735027</span>  <span style=\"color: #008080; text-decoration-color: #008080; font-weight: bold\">0</span>.        <span style=\"font-weight: bold\">]</span>\n",
       "\n",
       "</pre>\n"
      ],
      "text/plain": [
       "But what do the principle components represent? The vectors point in the direction of most variance.\n",
       "Eigenvalues: \u001b[1m[\u001b[0m\u001b[1;36m1.50\u001b[0m, \u001b[1;36m0.17\u001b[0m, \u001b[1;36m0.00\u001b[0m, \u001b[1;36m0.00\u001b[0m\u001b[1m]\u001b[0m\n",
       "Vector \u001b[1;36m1\u001b[0m: \u001b[1m[\u001b[0m\u001b[1;36m0\u001b[0m. \u001b[1;36m0\u001b[0m. \u001b[1;36m0\u001b[0m. \u001b[1;36m1\u001b[0m.\u001b[1m]\u001b[0m\n",
       "Vector \u001b[1;36m2\u001b[0m: \u001b[1m[\u001b[0m\u001b[1;36m-0.40824829\u001b[0m  \u001b[1;36m0.70710678\u001b[0m  \u001b[1;36m0.57735027\u001b[0m  \u001b[1;36m0\u001b[0m.        \u001b[1m]\u001b[0m\n",
       "Vector \u001b[1;36m3\u001b[0m: \u001b[1m[\u001b[0m\u001b[1;36m8.16496581e-01\u001b[0m \u001b[1;36m2.67247170e-16\u001b[0m \u001b[1;36m5.77350269e-01\u001b[0m \u001b[1;36m0.00000000e+00\u001b[0m\u001b[1m]\u001b[0m\n",
       "Vector \u001b[1;36m4\u001b[0m: \u001b[1m[\u001b[0m\u001b[1;36m-0.40824829\u001b[0m \u001b[1;36m-0.70710678\u001b[0m  \u001b[1;36m0.57735027\u001b[0m  \u001b[1;36m0\u001b[0m.        \u001b[1m]\u001b[0m\n",
       "\n"
      ]
     },
     "metadata": {},
     "output_type": "display_data"
    }
   ],
   "source": [
    "\"\"\"\n",
    "Intepretting Results\n",
    "\"\"\"\n",
    "idx = np.argsort(eigenvalues)[::-1]\n",
    "eigenvalues = eigenvalues[idx]\n",
    "eigenvectors = eigenvectors[:, idx]\n",
    "\n",
    "total_variance = sum(eigenvalues)\n",
    "console_out = \"Here's how much each principle component explains the variance in the data:\\n\"\n",
    "for i, eigenval in enumerate(eigenvalues):\n",
    "    console_out += f\"Componenet {i+1}: {int((eigenval / total_variance)*100)} %\\n\"\n",
    "console.print(console_out)\n",
    "\n",
    "console_out = \"\" # reusing string variable\n",
    "console_out += \"But what do the principle components represent? The vectors point in the direction of most variance.\\n\"\n",
    "console_out += f\"Eigenvalues: [{', '.join(f'{eig:.2f}' for eig in eigenvalues)}]\\n\"\n",
    "for i, eigenvect in enumerate(eigenvectors):\n",
    "    console_out += f\"Vector {i+1}: {eigenvect}\\n\"\n",
    "console.print(console_out)"
   ]
  },
  {
   "cell_type": "markdown",
   "id": "995daefc",
   "metadata": {},
   "source": [
    "# What does this mean?\n",
    "\n",
    "(INTERPRETATION SHOULD BE CITED AND ATTRIBUTED TO JOLLIFFE)\n",
    "\n",
    "Used this way, PCA is way of discovering which measurments and features lead to the most variance in the data. It automatically picks up correlations, though wihtout explicitly computing those correlations.\n",
    "\n",
    "It means that there are two components that explain the most variance: Component 1 and Component 2. Component 1 is entirely the 4th feature/measurement. Component 2 is a mix of the first three features.\n",
    "\n",
    "Most of the variance in data can be attrbitued to age of the individuals.\n",
    "\n",
    "$$ Component 1 (89\\%): PC1 = 1.00 * Age $$\n",
    "\n",
    "The rest of the variance can be explained by a combination of leg length, hair color, and hair length. This means a small amount of variance is from this: shorter legs is associated with lighter hair color and longer hair, and longer-legged individuals tend to have darker, shorter hair.\n",
    "\n",
    "$$ Component 2 (10\\%): PC2 = -0.4 * Leg Length + 0.7 Hair Color + 0.5 Hair Length$$\n",
    "\n",
    "That's it. No other set of features are able to explain additional variance in the data.\n",
    "\n",
    "$$ Component 3 (0\\%):Irrelevant $$\n",
    "\n",
    "$$ Component 4 (0\\%): Irrelevant $$\n",
    "\n",
    "The maximum number of relevant PCs we can get using PCA is either the number of features or the number of samples -1, depending on which is lower. We had 4 features and (3-1) samples (CITE THIS IT COMES FROM LEMMA: RANK OF COVARIANCE MATRIX). So having 2 PCs checks out."
   ]
  }
 ],
 "metadata": {
  "kernelspec": {
   "display_name": "Python 3",
   "language": "python",
   "name": "python3"
  },
  "language_info": {
   "codemirror_mode": {
    "name": "ipython",
    "version": 3
   },
   "file_extension": ".py",
   "mimetype": "text/x-python",
   "name": "python",
   "nbconvert_exporter": "python",
   "pygments_lexer": "ipython3",
   "version": "3.10.17"
  }
 },
 "nbformat": 4,
 "nbformat_minor": 5
}
